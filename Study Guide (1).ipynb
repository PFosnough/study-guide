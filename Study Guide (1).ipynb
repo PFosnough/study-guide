{
 "cells": [
  {
   "cell_type": "markdown",
   "id": "75c4418c",
   "metadata": {},
   "source": [
    "# Study Guide"
   ]
  },
  {
   "cell_type": "code",
   "execution_count": 2,
   "id": "5d980a6b",
   "metadata": {},
   "outputs": [
    {
     "data": {
      "text/plain": [
       "1"
      ]
     },
     "execution_count": 2,
     "metadata": {},
     "output_type": "execute_result"
    }
   ],
   "source": [
    "#Modulus-used to calculate the remainder of a division sum\n",
    "11%2"
   ]
  },
  {
   "cell_type": "code",
   "execution_count": 3,
   "id": "e248ad01",
   "metadata": {},
   "outputs": [
    {
     "data": {
      "text/plain": [
       "6.666666666666667"
      ]
     },
     "execution_count": 3,
     "metadata": {},
     "output_type": "execute_result"
    }
   ],
   "source": [
    "#True Division-Result of dividing two integers is a float\n",
    "20/3"
   ]
  },
  {
   "cell_type": "code",
   "execution_count": 4,
   "id": "7444db13",
   "metadata": {},
   "outputs": [
    {
     "data": {
      "text/plain": [
       "6"
      ]
     },
     "execution_count": 4,
     "metadata": {},
     "output_type": "execute_result"
    }
   ],
   "source": [
    "#Floor Division-The result is truncated down so the result is the floor\n",
    "20//3"
   ]
  },
  {
   "cell_type": "code",
   "execution_count": 6,
   "id": "b06f79ca",
   "metadata": {},
   "outputs": [
    {
     "name": "stdout",
     "output_type": "stream",
     "text": [
      "<class 'list'>\n",
      "<class 'dict'>\n"
     ]
    }
   ],
   "source": [
    "#Type- i.\ttype() method returns class type of the argument(object) passed as parameter\n",
    "numbers_list = [1, 2]\n",
    "print(type(numbers_list))\n",
    "\n",
    "numbers_dict = {1: 'one', 2: 'two'}\n",
    "print(type(numbers_dict))\n"
   ]
  },
  {
   "cell_type": "code",
   "execution_count": 7,
   "id": "ee21cecd",
   "metadata": {},
   "outputs": [
    {
     "data": {
      "text/plain": [
       "2"
      ]
     },
     "execution_count": 7,
     "metadata": {},
     "output_type": "execute_result"
    }
   ],
   "source": [
    "#Arithmetic Operators\n",
    "2+2\n",
    "4-2\n",
    "2*2\n",
    "5/2\n",
    "5//2\n"
   ]
  },
  {
   "cell_type": "code",
   "execution_count": 8,
   "id": "a22d1880",
   "metadata": {},
   "outputs": [
    {
     "name": "stdout",
     "output_type": "stream",
     "text": [
      "8\n"
     ]
    }
   ],
   "source": [
    "#Exponentiation operator-** is the exponentiation operator. It is used to raise the first operand to power of second\n",
    "val1 = 2\n",
    "val2 = 3\n",
    "\n",
    "res = val1 ** val2\n",
    "print(res)"
   ]
  },
  {
   "cell_type": "code",
   "execution_count": 9,
   "id": "6b53e36f",
   "metadata": {},
   "outputs": [],
   "source": [
    "#comment on python using the hash symbol"
   ]
  },
  {
   "cell_type": "code",
   "execution_count": 11,
   "id": "ca7ec618",
   "metadata": {},
   "outputs": [
    {
     "data": {
      "text/plain": [
       "'pizza'"
      ]
     },
     "execution_count": 11,
     "metadata": {},
     "output_type": "execute_result"
    }
   ],
   "source": [
    "#F string-provide a way to embed expressions inside string literals, using a minimal syntax\n",
    "f'pizza'"
   ]
  },
  {
   "cell_type": "code",
   "execution_count": 12,
   "id": "8fa70121",
   "metadata": {},
   "outputs": [],
   "source": [
    "#.format- technique of the string category permits you to try and do variable substitutions and data formatting. It enables you to concatenate parts of a string at desired intervals through point data format"
   ]
  },
  {
   "cell_type": "code",
   "execution_count": 13,
   "id": "c88ccc3d",
   "metadata": {},
   "outputs": [],
   "source": [
    "#Decimals vs Floats\n",
    "#Decimals- Decimal accurately represent any number within the precision of the decimal format, whereas Float cannot accurately represent all numbers.\n",
    "#float- a single precision (32 bit) floating point data type and decimal is a 128-bit floating point data type, Floating point data type represent number values with fractional parts\n"
   ]
  },
  {
   "cell_type": "code",
   "execution_count": 17,
   "id": "eda199c2",
   "metadata": {},
   "outputs": [
    {
     "data": {
      "text/plain": [
       "range(0, 9, 3)"
      ]
     },
     "execution_count": 17,
     "metadata": {},
     "output_type": "execute_result"
    }
   ],
   "source": [
    "range(10)[:3]\n",
    "range(9)[::3]"
   ]
  },
  {
   "cell_type": "code",
   "execution_count": 18,
   "id": "647c67b0",
   "metadata": {},
   "outputs": [
    {
     "name": "stdout",
     "output_type": "stream",
     "text": [
      "Enter your value: 443\n",
      "443\n"
     ]
    }
   ],
   "source": [
    "# Python program showing a use of input()\n",
    "  \n",
    "val = input(\"Enter your value: \")\n",
    "print(val)"
   ]
  },
  {
   "cell_type": "code",
   "execution_count": 19,
   "id": "46f6e88f",
   "metadata": {},
   "outputs": [
    {
     "ename": "SyntaxError",
     "evalue": "invalid syntax (<ipython-input-19-aa7fd5f3eb04>, line 1)",
     "output_type": "error",
     "traceback": [
      "\u001b[1;36m  File \u001b[1;32m\"<ipython-input-19-aa7fd5f3eb04>\"\u001b[1;36m, line \u001b[1;32m1\u001b[0m\n\u001b[1;33m    import basic descriptive statistics\u001b[0m\n\u001b[1;37m                 ^\u001b[0m\n\u001b[1;31mSyntaxError\u001b[0m\u001b[1;31m:\u001b[0m invalid syntax\n"
     ]
    }
   ],
   "source": [
    "import basic descriptive statistics"
   ]
  },
  {
   "cell_type": "code",
   "execution_count": 20,
   "id": "11d31c5f",
   "metadata": {},
   "outputs": [],
   "source": [
    "#a.\tConcise conditional expression- The condition is evaluated first. If condition is True , X is evaluated and its value is returned, and if condition is False , Y is evaluated and its value is returned"
   ]
  },
  {
   "cell_type": "code",
   "execution_count": 21,
   "id": "ea1bab16",
   "metadata": {},
   "outputs": [],
   "source": [
    "#if/else- evaluates test expression and will execute the body of if only when the test condition is True"
   ]
  },
  {
   "cell_type": "code",
   "execution_count": null,
   "id": "b8869cef",
   "metadata": {},
   "outputs": [],
   "source": []
  }
 ],
 "metadata": {
  "kernelspec": {
   "display_name": "Python 3",
   "language": "python",
   "name": "python3"
  },
  "language_info": {
   "codemirror_mode": {
    "name": "ipython",
    "version": 3
   },
   "file_extension": ".py",
   "mimetype": "text/x-python",
   "name": "python",
   "nbconvert_exporter": "python",
   "pygments_lexer": "ipython3",
   "version": "3.8.8"
  }
 },
 "nbformat": 4,
 "nbformat_minor": 5
}
